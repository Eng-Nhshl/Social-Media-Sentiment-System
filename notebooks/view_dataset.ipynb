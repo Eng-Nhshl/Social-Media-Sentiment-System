{
 "cells": [
  {
   "cell_type": "markdown",
   "metadata": {},
   "source": [
    "# View Social Media Dataset\n",
    "\n",
    "This notebook helps you explore the sample social media dataset.\n"
   ]
  },
  {
   "cell_type": "code",
   "execution_count": 1,
   "metadata": {},
   "outputs": [
    {
     "name": "stdout",
     "output_type": "stream",
     "text": [
      "Dataset Info:\n",
      "Number of posts: 1000\n",
      "\n",
      "Date range: from 2024-05-12 00:18:31.968292 to 2025-05-12 00:18:31.968292\n",
      "\n",
      "First few posts:\n"
     ]
    },
    {
     "data": {
      "application/vnd.microsoft.datawrangler.viewer.v0+json": {
       "columns": [
        {
         "name": "index",
         "rawType": "int64",
         "type": "integer"
        },
        {
         "name": "text",
         "rawType": "object",
         "type": "string"
        },
        {
         "name": "date",
         "rawType": "object",
         "type": "string"
        }
       ],
       "conversionMethod": "pd.DataFrame",
       "ref": "56deeeb3-0ae5-42cc-a458-893823397be3",
       "rows": [
        [
         "0",
         "The Sony laptop's software Not bad, not great 💫",
         "2024-05-12 00:18:31.968292"
        ],
        [
         "1",
         "The Microsoft laptop's camera Not bad, not great ❓",
         "2024-05-12 00:18:31.968292"
        ],
        [
         "2",
         "The HP console's price Terrible product 😫",
         "2024-05-13 00:18:31.968292"
        ],
        [
         "3",
         "The Lenovo tablet's quality Regular performance 😐",
         "2024-05-13 00:18:31.968292"
        ],
        [
         "4",
         "The Amazon TV's battery life Love this product! 💯",
         "2024-05-13 00:18:31.968292"
        ]
       ],
       "shape": {
        "columns": 2,
        "rows": 5
       }
      },
      "text/html": [
       "<div>\n",
       "<style scoped>\n",
       "    .dataframe tbody tr th:only-of-type {\n",
       "        vertical-align: middle;\n",
       "    }\n",
       "\n",
       "    .dataframe tbody tr th {\n",
       "        vertical-align: top;\n",
       "    }\n",
       "\n",
       "    .dataframe thead th {\n",
       "        text-align: right;\n",
       "    }\n",
       "</style>\n",
       "<table border=\"1\" class=\"dataframe\">\n",
       "  <thead>\n",
       "    <tr style=\"text-align: right;\">\n",
       "      <th></th>\n",
       "      <th>text</th>\n",
       "      <th>date</th>\n",
       "    </tr>\n",
       "  </thead>\n",
       "  <tbody>\n",
       "    <tr>\n",
       "      <th>0</th>\n",
       "      <td>The Sony laptop's software Not bad, not great 💫</td>\n",
       "      <td>2024-05-12 00:18:31.968292</td>\n",
       "    </tr>\n",
       "    <tr>\n",
       "      <th>1</th>\n",
       "      <td>The Microsoft laptop's camera Not bad, not gre...</td>\n",
       "      <td>2024-05-12 00:18:31.968292</td>\n",
       "    </tr>\n",
       "    <tr>\n",
       "      <th>2</th>\n",
       "      <td>The HP console's price Terrible product 😫</td>\n",
       "      <td>2024-05-13 00:18:31.968292</td>\n",
       "    </tr>\n",
       "    <tr>\n",
       "      <th>3</th>\n",
       "      <td>The Lenovo tablet's quality Regular performance 😐</td>\n",
       "      <td>2024-05-13 00:18:31.968292</td>\n",
       "    </tr>\n",
       "    <tr>\n",
       "      <th>4</th>\n",
       "      <td>The Amazon TV's battery life Love this product! 💯</td>\n",
       "      <td>2024-05-13 00:18:31.968292</td>\n",
       "    </tr>\n",
       "  </tbody>\n",
       "</table>\n",
       "</div>"
      ],
      "text/plain": [
       "                                                text  \\\n",
       "0    The Sony laptop's software Not bad, not great 💫   \n",
       "1  The Microsoft laptop's camera Not bad, not gre...   \n",
       "2          The HP console's price Terrible product 😫   \n",
       "3  The Lenovo tablet's quality Regular performance 😐   \n",
       "4  The Amazon TV's battery life Love this product! 💯   \n",
       "\n",
       "                         date  \n",
       "0  2024-05-12 00:18:31.968292  \n",
       "1  2024-05-12 00:18:31.968292  \n",
       "2  2024-05-13 00:18:31.968292  \n",
       "3  2024-05-13 00:18:31.968292  \n",
       "4  2024-05-13 00:18:31.968292  "
      ]
     },
     "execution_count": 1,
     "metadata": {},
     "output_type": "execute_result"
    }
   ],
   "source": [
    "import pandas as pd\n",
    "\n",
    "# Read the dataset\n",
    "df = pd.read_csv(\"../data/social_media_data.csv\")\n",
    "\n",
    "# Display basic information\n",
    "print(\"Dataset Info:\")\n",
    "print(f\"Number of posts: {len(df)}\")\n",
    "print(f\"\\nDate range: from {df['date'].min()} to {df['date'].max()}\")\n",
    "\n",
    "# Display first few rows\n",
    "print(\"\\nFirst few posts:\")\n",
    "df.head()"
   ]
  },
  {
   "cell_type": "code",
   "execution_count": 2,
   "metadata": {},
   "outputs": [
    {
     "name": "stdout",
     "output_type": "stream",
     "text": [
      "Random samples from the dataset:\n"
     ]
    },
    {
     "data": {
      "application/vnd.microsoft.datawrangler.viewer.v0+json": {
       "columns": [
        {
         "name": "index",
         "rawType": "int64",
         "type": "integer"
        },
        {
         "name": "text",
         "rawType": "object",
         "type": "string"
        },
        {
         "name": "date",
         "rawType": "object",
         "type": "string"
        }
       ],
       "conversionMethod": "pd.DataFrame",
       "ref": "e0fe2ffa-b7d4-4647-8aad-f428bd45ba44",
       "rows": [
        [
         "781",
         "The Samsung camera's design Waste of money 😫",
         "2025-02-16 00:18:31.968292"
        ],
        [
         "602",
         "The Lenovo smartwatch's software Doesn't work properly 😡",
         "2024-12-13 00:18:31.968292"
        ],
        [
         "586",
         "The Dell headphones's screen Standard features 💫",
         "2024-12-07 00:18:31.968292"
        ],
        [
         "203",
         "The Samsung phone's performance Regular performance 😕",
         "2024-07-22 00:18:31.968292"
        ],
        [
         "57",
         "The Amazon console's performance Would not recommend 😫",
         "2024-05-31 00:18:31.968292"
        ]
       ],
       "shape": {
        "columns": 2,
        "rows": 5
       }
      },
      "text/html": [
       "<div>\n",
       "<style scoped>\n",
       "    .dataframe tbody tr th:only-of-type {\n",
       "        vertical-align: middle;\n",
       "    }\n",
       "\n",
       "    .dataframe tbody tr th {\n",
       "        vertical-align: top;\n",
       "    }\n",
       "\n",
       "    .dataframe thead th {\n",
       "        text-align: right;\n",
       "    }\n",
       "</style>\n",
       "<table border=\"1\" class=\"dataframe\">\n",
       "  <thead>\n",
       "    <tr style=\"text-align: right;\">\n",
       "      <th></th>\n",
       "      <th>text</th>\n",
       "      <th>date</th>\n",
       "    </tr>\n",
       "  </thead>\n",
       "  <tbody>\n",
       "    <tr>\n",
       "      <th>781</th>\n",
       "      <td>The Samsung camera's design Waste of money 😫</td>\n",
       "      <td>2025-02-16 00:18:31.968292</td>\n",
       "    </tr>\n",
       "    <tr>\n",
       "      <th>602</th>\n",
       "      <td>The Lenovo smartwatch's software Doesn't work ...</td>\n",
       "      <td>2024-12-13 00:18:31.968292</td>\n",
       "    </tr>\n",
       "    <tr>\n",
       "      <th>586</th>\n",
       "      <td>The Dell headphones's screen Standard features 💫</td>\n",
       "      <td>2024-12-07 00:18:31.968292</td>\n",
       "    </tr>\n",
       "    <tr>\n",
       "      <th>203</th>\n",
       "      <td>The Samsung phone's performance Regular perfor...</td>\n",
       "      <td>2024-07-22 00:18:31.968292</td>\n",
       "    </tr>\n",
       "    <tr>\n",
       "      <th>57</th>\n",
       "      <td>The Amazon console's performance Would not rec...</td>\n",
       "      <td>2024-05-31 00:18:31.968292</td>\n",
       "    </tr>\n",
       "  </tbody>\n",
       "</table>\n",
       "</div>"
      ],
      "text/plain": [
       "                                                  text  \\\n",
       "781       The Samsung camera's design Waste of money 😫   \n",
       "602  The Lenovo smartwatch's software Doesn't work ...   \n",
       "586   The Dell headphones's screen Standard features 💫   \n",
       "203  The Samsung phone's performance Regular perfor...   \n",
       "57   The Amazon console's performance Would not rec...   \n",
       "\n",
       "                           date  \n",
       "781  2025-02-16 00:18:31.968292  \n",
       "602  2024-12-13 00:18:31.968292  \n",
       "586  2024-12-07 00:18:31.968292  \n",
       "203  2024-07-22 00:18:31.968292  \n",
       "57   2024-05-31 00:18:31.968292  "
      ]
     },
     "execution_count": 2,
     "metadata": {},
     "output_type": "execute_result"
    }
   ],
   "source": [
    "# Display some random samples\n",
    "print(\"Random samples from the dataset:\")\n",
    "df.sample(5)"
   ]
  },
  {
   "cell_type": "code",
   "execution_count": 3,
   "metadata": {},
   "outputs": [
    {
     "name": "stdout",
     "output_type": "stream",
     "text": [
      "Text length statistics:\n"
     ]
    },
    {
     "data": {
      "text/plain": [
       "count    1000.000000\n",
       "mean       47.555000\n",
       "std         4.963226\n",
       "min        32.000000\n",
       "25%        44.000000\n",
       "50%        47.000000\n",
       "75%        51.000000\n",
       "max        63.000000\n",
       "Name: text_length, dtype: float64"
      ]
     },
     "execution_count": 3,
     "metadata": {},
     "output_type": "execute_result"
    }
   ],
   "source": [
    "# Basic statistics about text length\n",
    "df[\"text_length\"] = df[\"text\"].str.len()\n",
    "\n",
    "print(\"Text length statistics:\")\n",
    "df[\"text_length\"].describe()"
   ]
  }
 ],
 "metadata": {
  "kernelspec": {
   "display_name": "venv",
   "language": "python",
   "name": "python3"
  },
  "language_info": {
   "codemirror_mode": {
    "name": "ipython",
    "version": 3
   },
   "file_extension": ".py",
   "mimetype": "text/x-python",
   "name": "python",
   "nbconvert_exporter": "python",
   "pygments_lexer": "ipython3",
   "version": "3.13.1"
  }
 },
 "nbformat": 4,
 "nbformat_minor": 4
}
